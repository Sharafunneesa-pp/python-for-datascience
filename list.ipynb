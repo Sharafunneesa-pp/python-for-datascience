{
 "cells": [
  {
   "cell_type": "markdown",
   "id": "6b8c844a",
   "metadata": {},
   "source": [
    "## python datastructure"
   ]
  },
  {
   "cell_type": "code",
   "execution_count": 38,
   "id": "0ba1267a",
   "metadata": {},
   "outputs": [],
   "source": [
    "#boolean"
   ]
  },
  {
   "cell_type": "code",
   "execution_count": 39,
   "id": "abbf69cd",
   "metadata": {},
   "outputs": [
    {
     "name": "stdout",
     "output_type": "stream",
     "text": [
      "True False\n"
     ]
    }
   ],
   "source": [
    "print(True,False)"
   ]
  },
  {
   "cell_type": "code",
   "execution_count": 40,
   "id": "b7a0df93",
   "metadata": {},
   "outputs": [
    {
     "data": {
      "text/plain": [
       "bool"
      ]
     },
     "execution_count": 40,
     "metadata": {},
     "output_type": "execute_result"
    }
   ],
   "source": [
    "type(True)"
   ]
  },
  {
   "cell_type": "code",
   "execution_count": 41,
   "id": "1c114e10",
   "metadata": {},
   "outputs": [],
   "source": [
    "name=\"nisha\""
   ]
  },
  {
   "cell_type": "code",
   "execution_count": 42,
   "id": "3d5839ee",
   "metadata": {},
   "outputs": [
    {
     "name": "stdout",
     "output_type": "stream",
     "text": [
      "True\n",
      "True\n",
      "False\n",
      "False\n",
      "False\n",
      "True\n",
      "False\n",
      "False\n",
      "True\n"
     ]
    }
   ],
   "source": [
    "print(name.isalnum())#all char are numbers\n",
    "print(name.isalpha())#all char in string are alphabets\n",
    "print(name.isdigit())#test if sting contain digit\n",
    "print(name.istitle())#if str contain title words\n",
    "print(name.isupper())\n",
    "print(name.islower())\n",
    "print(name.isspace())\n",
    "print(name.endswith('n'))\n",
    "print(name.startswith('n'))"
   ]
  },
  {
   "cell_type": "markdown",
   "id": "b746109e",
   "metadata": {},
   "source": [
    "## boolean and logical operations"
   ]
  },
  {
   "cell_type": "code",
   "execution_count": 43,
   "id": "8457461f",
   "metadata": {},
   "outputs": [
    {
     "data": {
      "text/plain": [
       "True"
      ]
     },
     "execution_count": 43,
     "metadata": {},
     "output_type": "execute_result"
    }
   ],
   "source": [
    "True and True"
   ]
  },
  {
   "cell_type": "code",
   "execution_count": 44,
   "id": "7fc9da47",
   "metadata": {},
   "outputs": [
    {
     "data": {
      "text/plain": [
       "True"
      ]
     },
     "execution_count": 44,
     "metadata": {},
     "output_type": "execute_result"
    }
   ],
   "source": [
    "True or False"
   ]
  },
  {
   "cell_type": "markdown",
   "id": "9cfd89ed",
   "metadata": {},
   "source": [
    "## LIST"
   ]
  },
  {
   "cell_type": "code",
   "execution_count": 46,
   "id": "0d9ad96b",
   "metadata": {},
   "outputs": [],
   "source": [
    "list1=[]"
   ]
  },
  {
   "cell_type": "code",
   "execution_count": 47,
   "id": "3baecd6a",
   "metadata": {},
   "outputs": [
    {
     "data": {
      "text/plain": [
       "list"
      ]
     },
     "execution_count": 47,
     "metadata": {},
     "output_type": "execute_result"
    }
   ],
   "source": [
    "type(list1)"
   ]
  },
  {
   "cell_type": "code",
   "execution_count": 48,
   "id": "63672e3c",
   "metadata": {},
   "outputs": [],
   "source": [
    "list2=list()"
   ]
  },
  {
   "cell_type": "code",
   "execution_count": 49,
   "id": "98e676f2",
   "metadata": {},
   "outputs": [],
   "source": [
    "list2=[\"nisha\",1,2,3,2.4]"
   ]
  },
  {
   "cell_type": "code",
   "execution_count": 50,
   "id": "a3f29127",
   "metadata": {},
   "outputs": [
    {
     "data": {
      "text/plain": [
       "5"
      ]
     },
     "execution_count": 50,
     "metadata": {},
     "output_type": "execute_result"
    }
   ],
   "source": [
    "len(list2)"
   ]
  },
  {
   "cell_type": "code",
   "execution_count": 51,
   "id": "6dfc0339",
   "metadata": {},
   "outputs": [
    {
     "data": {
      "text/plain": [
       "list"
      ]
     },
     "execution_count": 51,
     "metadata": {},
     "output_type": "execute_result"
    }
   ],
   "source": [
    "type(list2)"
   ]
  },
  {
   "cell_type": "markdown",
   "id": "891bcc13",
   "metadata": {},
   "source": [
    "##  append\n"
   ]
  },
  {
   "cell_type": "code",
   "execution_count": 52,
   "id": "158e499f",
   "metadata": {},
   "outputs": [],
   "source": [
    "list2.append(\"parrot\")"
   ]
  },
  {
   "cell_type": "code",
   "execution_count": 53,
   "id": "01f5eb09",
   "metadata": {},
   "outputs": [
    {
     "data": {
      "text/plain": [
       "['nisha', 1, 2, 3, 2.4, 'parrot']"
      ]
     },
     "execution_count": 53,
     "metadata": {},
     "output_type": "execute_result"
    }
   ],
   "source": [
    "list2"
   ]
  },
  {
   "cell_type": "code",
   "execution_count": 54,
   "id": "33a78237",
   "metadata": {},
   "outputs": [
    {
     "data": {
      "text/plain": [
       "['nisha', 1, 2, 3, 2.4, 'parrot', ['hi', 'hello']]"
      ]
     },
     "execution_count": 54,
     "metadata": {},
     "output_type": "execute_result"
    }
   ],
   "source": [
    "list2.append([\"hi\",\"hello\"])\n",
    "list2 # added as seperate list"
   ]
  },
  {
   "cell_type": "markdown",
   "id": "23ab9728",
   "metadata": {},
   "source": [
    "## insert"
   ]
  },
  {
   "cell_type": "code",
   "execution_count": 55,
   "id": "1000fc00",
   "metadata": {},
   "outputs": [
    {
     "data": {
      "text/plain": [
       "['nisha', 'rafeek', 1, 2, 3, 2.4, 'parrot', ['hi', 'hello']]"
      ]
     },
     "execution_count": 55,
     "metadata": {},
     "output_type": "execute_result"
    }
   ],
   "source": [
    "list2.insert(1,\"rafeek\")\n",
    "list2"
   ]
  },
  {
   "cell_type": "markdown",
   "id": "fd66fa3b",
   "metadata": {},
   "source": [
    "## indexing"
   ]
  },
  {
   "cell_type": "code",
   "execution_count": 56,
   "id": "a2c55a3a",
   "metadata": {},
   "outputs": [
    {
     "data": {
      "text/plain": [
       "'nisha'"
      ]
     },
     "execution_count": 56,
     "metadata": {},
     "output_type": "execute_result"
    }
   ],
   "source": [
    "list2[0]"
   ]
  },
  {
   "cell_type": "code",
   "execution_count": 57,
   "id": "7aed054c",
   "metadata": {},
   "outputs": [
    {
     "data": {
      "text/plain": [
       "['nisha', 'rafeek', 1, 2, 3, 2.4, 'parrot', ['hi', 'hello']]"
      ]
     },
     "execution_count": 57,
     "metadata": {},
     "output_type": "execute_result"
    }
   ],
   "source": [
    "list2[:]"
   ]
  },
  {
   "cell_type": "code",
   "execution_count": 58,
   "id": "c36286a8",
   "metadata": {},
   "outputs": [
    {
     "data": {
      "text/plain": [
       "['rafeek', 1, 2, 3, 2.4, 'parrot', ['hi', 'hello']]"
      ]
     },
     "execution_count": 58,
     "metadata": {},
     "output_type": "execute_result"
    }
   ],
   "source": [
    "list2[1:]"
   ]
  },
  {
   "cell_type": "code",
   "execution_count": 59,
   "id": "edf8eda7",
   "metadata": {},
   "outputs": [
    {
     "data": {
      "text/plain": [
       "[1, 2, 3]"
      ]
     },
     "execution_count": 59,
     "metadata": {},
     "output_type": "execute_result"
    }
   ],
   "source": [
    "list2[2:5]"
   ]
  },
  {
   "cell_type": "markdown",
   "id": "5e3f5745",
   "metadata": {},
   "source": [
    "## extend"
   ]
  },
  {
   "cell_type": "code",
   "execution_count": 60,
   "id": "563a6ccc",
   "metadata": {},
   "outputs": [
    {
     "data": {
      "text/plain": [
       "['nisha', 'rafeek', 1, 2, 3, 2.4, 'parrot', ['hi', 'hello'], 6, 7]"
      ]
     },
     "execution_count": 60,
     "metadata": {},
     "output_type": "execute_result"
    }
   ],
   "source": [
    "list2.extend([6,7])\n",
    "list2 # added not as seperate list "
   ]
  },
  {
   "cell_type": "markdown",
   "id": "ac74fae0",
   "metadata": {},
   "source": [
    "## operations in  list"
   ]
  },
  {
   "cell_type": "code",
   "execution_count": 61,
   "id": "4b479d51",
   "metadata": {},
   "outputs": [],
   "source": [
    "list1=[2,3,4,5,6]"
   ]
  },
  {
   "cell_type": "code",
   "execution_count": 62,
   "id": "0ad047b7",
   "metadata": {},
   "outputs": [
    {
     "data": {
      "text/plain": [
       "20"
      ]
     },
     "execution_count": 62,
     "metadata": {},
     "output_type": "execute_result"
    }
   ],
   "source": [
    "sum(list1)"
   ]
  },
  {
   "cell_type": "code",
   "execution_count": 63,
   "id": "4fb273bf",
   "metadata": {},
   "outputs": [
    {
     "data": {
      "text/plain": [
       "5"
      ]
     },
     "execution_count": 63,
     "metadata": {},
     "output_type": "execute_result"
    }
   ],
   "source": [
    "len(list1)"
   ]
  },
  {
   "cell_type": "code",
   "execution_count": 64,
   "id": "3815a4c8",
   "metadata": {},
   "outputs": [],
   "source": [
    "#pop "
   ]
  },
  {
   "cell_type": "code",
   "execution_count": 65,
   "id": "117ddec2",
   "metadata": {},
   "outputs": [
    {
     "data": {
      "text/plain": [
       "6"
      ]
     },
     "execution_count": 65,
     "metadata": {},
     "output_type": "execute_result"
    }
   ],
   "source": [
    "list1.pop()"
   ]
  },
  {
   "cell_type": "code",
   "execution_count": 67,
   "id": "03372d43",
   "metadata": {},
   "outputs": [
    {
     "data": {
      "text/plain": [
       "4"
      ]
     },
     "execution_count": 67,
     "metadata": {},
     "output_type": "execute_result"
    }
   ],
   "source": [
    "list1.pop(2)"
   ]
  },
  {
   "cell_type": "code",
   "execution_count": 68,
   "id": "1bf2b6de",
   "metadata": {},
   "outputs": [
    {
     "data": {
      "text/plain": [
       "2"
      ]
     },
     "execution_count": 68,
     "metadata": {},
     "output_type": "execute_result"
    }
   ],
   "source": [
    "lst=[2,3,4,5,5,6,7,7]\n",
    "lst.count(5)"
   ]
  },
  {
   "cell_type": "code",
   "execution_count": 69,
   "id": "46b99990",
   "metadata": {},
   "outputs": [
    {
     "data": {
      "text/plain": [
       "6"
      ]
     },
     "execution_count": 69,
     "metadata": {},
     "output_type": "execute_result"
    }
   ],
   "source": [
    "#index()- return the index of the first occurence\n",
    "lst.index(7)"
   ]
  },
  {
   "cell_type": "code",
   "execution_count": 70,
   "id": "eb34b3e7",
   "metadata": {},
   "outputs": [
    {
     "data": {
      "text/plain": [
       "2"
      ]
     },
     "execution_count": 70,
     "metadata": {},
     "output_type": "execute_result"
    }
   ],
   "source": [
    "min(lst)"
   ]
  },
  {
   "cell_type": "code",
   "execution_count": 71,
   "id": "3f9f3454",
   "metadata": {},
   "outputs": [
    {
     "data": {
      "text/plain": [
       "7"
      ]
     },
     "execution_count": 71,
     "metadata": {},
     "output_type": "execute_result"
    }
   ],
   "source": [
    "max(lst)"
   ]
  }
 ],
 "metadata": {
  "kernelspec": {
   "display_name": "Python 3 (ipykernel)",
   "language": "python",
   "name": "python3"
  },
  "language_info": {
   "codemirror_mode": {
    "name": "ipython",
    "version": 3
   },
   "file_extension": ".py",
   "mimetype": "text/x-python",
   "name": "python",
   "nbconvert_exporter": "python",
   "pygments_lexer": "ipython3",
   "version": "3.11.5"
  }
 },
 "nbformat": 4,
 "nbformat_minor": 5
}
