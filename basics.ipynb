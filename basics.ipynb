{
 "cells": [
  {
   "cell_type": "markdown",
   "id": "861e3383",
   "metadata": {},
   "source": [
    "## Basic of python\n"
   ]
  },
  {
   "cell_type": "markdown",
   "id": "a5d86740",
   "metadata": {},
   "source": [
    "## datatypes"
   ]
  },
  {
   "cell_type": "markdown",
   "id": "6054c398",
   "metadata": {},
   "source": [
    "## number"
   ]
  },
  {
   "cell_type": "code",
   "execution_count": 29,
   "id": "c84923e4",
   "metadata": {},
   "outputs": [
    {
     "data": {
      "text/plain": [
       "2"
      ]
     },
     "execution_count": 29,
     "metadata": {},
     "output_type": "execute_result"
    }
   ],
   "source": [
    " \n",
    "1+1"
   ]
  },
  {
   "cell_type": "code",
   "execution_count": 30,
   "id": "fc3f56ea",
   "metadata": {},
   "outputs": [
    {
     "data": {
      "text/plain": [
       "30"
      ]
     },
     "execution_count": 30,
     "metadata": {},
     "output_type": "execute_result"
    }
   ],
   "source": [
    "5*6"
   ]
  },
  {
   "cell_type": "code",
   "execution_count": 31,
   "id": "58991981",
   "metadata": {},
   "outputs": [
    {
     "data": {
      "text/plain": [
       "0.2"
      ]
     },
     "execution_count": 31,
     "metadata": {},
     "output_type": "execute_result"
    }
   ],
   "source": [
    "4/20"
   ]
  },
  {
   "cell_type": "code",
   "execution_count": 32,
   "id": "9a8f195e",
   "metadata": {},
   "outputs": [
    {
     "data": {
      "text/plain": [
       "0"
      ]
     },
     "execution_count": 32,
     "metadata": {},
     "output_type": "execute_result"
    }
   ],
   "source": [
    "10%2"
   ]
  },
  {
   "cell_type": "code",
   "execution_count": 33,
   "id": "cdf24ee0",
   "metadata": {},
   "outputs": [
    {
     "data": {
      "text/plain": [
       "' nisha nisha nisha nisha nisha'"
      ]
     },
     "execution_count": 33,
     "metadata": {},
     "output_type": "execute_result"
    }
   ],
   "source": [
    "5*\" nisha\""
   ]
  },
  {
   "cell_type": "markdown",
   "id": "12a6e292",
   "metadata": {},
   "source": [
    "## check datatype"
   ]
  },
  {
   "cell_type": "code",
   "execution_count": 34,
   "id": "185dfeb6",
   "metadata": {},
   "outputs": [
    {
     "data": {
      "text/plain": [
       "int"
      ]
     },
     "execution_count": 34,
     "metadata": {},
     "output_type": "execute_result"
    }
   ],
   "source": [
    "\n",
    "type(1)"
   ]
  },
  {
   "cell_type": "code",
   "execution_count": 35,
   "id": "a077e004",
   "metadata": {},
   "outputs": [
    {
     "data": {
      "text/plain": [
       "bool"
      ]
     },
     "execution_count": 35,
     "metadata": {},
     "output_type": "execute_result"
    }
   ],
   "source": [
    "type(True)"
   ]
  },
  {
   "cell_type": "code",
   "execution_count": 50,
   "id": "7d9c45ca",
   "metadata": {},
   "outputs": [
    {
     "data": {
      "text/plain": [
       "float"
      ]
     },
     "execution_count": 50,
     "metadata": {},
     "output_type": "execute_result"
    }
   ],
   "source": [
    "type(2.5)"
   ]
  },
  {
   "cell_type": "code",
   "execution_count": 51,
   "id": "f2bbe257",
   "metadata": {},
   "outputs": [
    {
     "data": {
      "text/plain": [
       "list"
      ]
     },
     "execution_count": 51,
     "metadata": {},
     "output_type": "execute_result"
    }
   ],
   "source": [
    "type([1,2,3,4])"
   ]
  },
  {
   "cell_type": "code",
   "execution_count": 36,
   "id": "795425e6",
   "metadata": {
    "scrolled": true
   },
   "outputs": [
    {
     "data": {
      "text/plain": [
       "str"
      ]
     },
     "execution_count": 36,
     "metadata": {},
     "output_type": "execute_result"
    }
   ],
   "source": [
    "type(\"nisha\")"
   ]
  },
  {
   "cell_type": "markdown",
   "id": "1e5eaa8a",
   "metadata": {},
   "source": [
    "## string"
   ]
  },
  {
   "cell_type": "code",
   "execution_count": 37,
   "id": "bffe8c94",
   "metadata": {},
   "outputs": [
    {
     "data": {
      "text/plain": [
       "'nisha'"
      ]
     },
     "execution_count": 37,
     "metadata": {},
     "output_type": "execute_result"
    }
   ],
   "source": [
    "\"nisha\""
   ]
  },
  {
   "cell_type": "code",
   "execution_count": 49,
   "id": "e05dc789",
   "metadata": {},
   "outputs": [
    {
     "data": {
      "text/plain": [
       "5"
      ]
     },
     "execution_count": 49,
     "metadata": {},
     "output_type": "execute_result"
    }
   ],
   "source": [
    "len(\"nisha\")"
   ]
  },
  {
   "cell_type": "code",
   "execution_count": 38,
   "id": "5641e000",
   "metadata": {},
   "outputs": [
    {
     "data": {
      "text/plain": [
       "str"
      ]
     },
     "execution_count": 38,
     "metadata": {},
     "output_type": "execute_result"
    }
   ],
   "source": [
    "type(\"nisha\")"
   ]
  },
  {
   "cell_type": "markdown",
   "id": "67a236c9",
   "metadata": {},
   "source": [
    "## variable assignment"
   ]
  },
  {
   "cell_type": "code",
   "execution_count": 39,
   "id": "ca0ded74",
   "metadata": {},
   "outputs": [],
   "source": [
    "a=10"
   ]
  },
  {
   "cell_type": "code",
   "execution_count": 40,
   "id": "d9e68df7",
   "metadata": {},
   "outputs": [
    {
     "data": {
      "text/plain": [
       "int"
      ]
     },
     "execution_count": 40,
     "metadata": {},
     "output_type": "execute_result"
    }
   ],
   "source": [
    "type(a)"
   ]
  },
  {
   "cell_type": "code",
   "execution_count": 41,
   "id": "43ed66a1",
   "metadata": {},
   "outputs": [],
   "source": [
    "a=\"nisha\""
   ]
  },
  {
   "cell_type": "code",
   "execution_count": 42,
   "id": "ffb8e177",
   "metadata": {},
   "outputs": [
    {
     "data": {
      "text/plain": [
       "str"
      ]
     },
     "execution_count": 42,
     "metadata": {},
     "output_type": "execute_result"
    }
   ],
   "source": [
    "type(a)"
   ]
  },
  {
   "cell_type": "markdown",
   "id": "7a092bf1",
   "metadata": {},
   "source": [
    "## mathematical operation"
   ]
  },
  {
   "cell_type": "code",
   "execution_count": 43,
   "id": "0478b408",
   "metadata": {},
   "outputs": [
    {
     "name": "stdout",
     "output_type": "stream",
     "text": [
      "12\n",
      "8\n",
      "20\n",
      "5.0\n",
      "0\n",
      "25.0\n"
     ]
    }
   ],
   "source": [
    "a=10\n",
    "b=2\n",
    "print(a+b)\n",
    "print(a-b)\n",
    "print(a*b)\n",
    "print(a/b)\n",
    "print(a%b)\n",
    "print((a*b)+(a/b))\n"
   ]
  },
  {
   "cell_type": "markdown",
   "id": "81540a2c",
   "metadata": {},
   "source": [
    "## printing ways"
   ]
  },
  {
   "cell_type": "code",
   "execution_count": 44,
   "id": "2370994c",
   "metadata": {},
   "outputs": [
    {
     "name": "stdout",
     "output_type": "stream",
     "text": [
      "nisha\n"
     ]
    }
   ],
   "source": [
    "print(\"nisha\")"
   ]
  },
  {
   "cell_type": "code",
   "execution_count": 45,
   "id": "70bd6444",
   "metadata": {},
   "outputs": [
    {
     "name": "stdout",
     "output_type": "stream",
     "text": [
      "my name is nisha and am 21 years old\n"
     ]
    }
   ],
   "source": [
    "name=\"nisha\"\n",
    "age=21\n",
    "print(\"my name is {} and am {} years old\".format(name,age))#order is important"
   ]
  },
  {
   "cell_type": "code",
   "execution_count": 46,
   "id": "443664d6",
   "metadata": {},
   "outputs": [
    {
     "name": "stdout",
     "output_type": "stream",
     "text": [
      "my name is nisha i am 21 year old\n"
     ]
    }
   ],
   "source": [
    "print(\"my name is {name} i am {age} year old\".format(age=age,name=name))#order is not important"
   ]
  },
  {
   "cell_type": "code",
   "execution_count": 47,
   "id": "41ad6eca",
   "metadata": {},
   "outputs": [
    {
     "data": {
      "text/plain": [
       "'my name is nisha'"
      ]
     },
     "execution_count": 47,
     "metadata": {},
     "output_type": "execute_result"
    }
   ],
   "source": [
    "f\"my name is {name}\""
   ]
  },
  {
   "cell_type": "code",
   "execution_count": null,
   "id": "10ddcf8f",
   "metadata": {},
   "outputs": [],
   "source": []
  }
 ],
 "metadata": {
  "kernelspec": {
   "display_name": "Python 3 (ipykernel)",
   "language": "python",
   "name": "python3"
  },
  "language_info": {
   "codemirror_mode": {
    "name": "ipython",
    "version": 3
   },
   "file_extension": ".py",
   "mimetype": "text/x-python",
   "name": "python",
   "nbconvert_exporter": "python",
   "pygments_lexer": "ipython3",
   "version": "3.11.5"
  }
 },
 "nbformat": 4,
 "nbformat_minor": 5
}
